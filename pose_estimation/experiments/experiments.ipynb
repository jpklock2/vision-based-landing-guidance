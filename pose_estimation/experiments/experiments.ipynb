{
 "cells": [
  {
   "cell_type": "markdown",
   "id": "b87a8676-e460-4af0-a570-c2d3571bfe2b",
   "metadata": {},
   "source": [
    "# Visualizing Experimental Results"
   ]
  },
  {
   "cell_type": "markdown",
   "id": "f6c22949-e804-4bc6-ab2b-938d871ab7fd",
   "metadata": {},
   "source": [
    "This notebook is used to plot experimental results as shown in Vision-based Landing Guidance through Tracking and Orientation Estimation."
   ]
  },
  {
   "cell_type": "code",
   "execution_count": null,
   "id": "3dbd1dca-467b-4084-9861-3eb4cca1a307",
   "metadata": {},
   "outputs": [],
   "source": [
    "from matplotlib.ticker import FuncFormatter\n",
    "from matplotlib.patches import Patch"
   ]
  },
  {
   "cell_type": "code",
   "execution_count": null,
   "id": "7ec215b3-d7d8-4515-97d6-8c907cb71eb7",
   "metadata": {},
   "outputs": [],
   "source": [
    "class AsinhScale:\n",
    "    def __init__(self, a=1):\n",
    "        self.a = a\n",
    "\n",
    "    def transform(self, x):\n",
    "        return np.arcsinh(x / self.a)\n",
    "\n",
    "    def inverse(self, y):\n",
    "        return np.sinh(y) * self.a\n",
    "\n",
    "    def format(self, x, pos):\n",
    "        return f'{int(x):d}'\n",
    "\n",
    "def box_plot(sd, sd_hat_gt, sd_hat_kp, ypr, ypr_hat_gt, ypr_hat_kp, airport, runway, test_scenery, scale=\"linear\"):\n",
    "    fig, (ax1, ax2) = plt.subplots(1, 2, figsize=(10, 5), sharex=False)\n",
    "    err_gt = np.degrees(copy.deepcopy(ypr-ypr_hat_gt))\n",
    "    err_kp = np.degrees(copy.deepcopy(ypr-ypr_hat_kp))\n",
    "    sd_err_gt = sd - sd_hat_gt\n",
    "    sd_err_kp = sd - sd_hat_kp\n",
    "\n",
    "    print(f\"GT Yaw error mean: {np.mean(err_gt[:, 0])} +- {np.std(err_gt[:, 0])}\")\n",
    "    print(f\"GT Pitch error mean: {np.mean(err_gt[:, 1])} +- {np.std(err_gt[:, 1])}\")\n",
    "    print(f\"GT Roll error mean: {np.mean(err_gt[:, 2])} +- {np.std(err_gt[:, 2])}\")\n",
    "    print(f\"GT Slant Distance error mean: {np.mean(abs(sd_err_gt[:]))} +- {np.std(abs(sd_err_gt[:]))}\\n\")\n",
    "\n",
    "    print(f\"DKP Yaw error mean: {np.mean(err_kp[:, 0])} +- {np.std(err_kp[:, 0])}\")\n",
    "    print(f\"DKP Pitch error mean: {np.mean(err_kp[:, 1])} +- {np.std(err_kp[:, 1])}\")\n",
    "    print(f\"DKP Roll error mean: {np.mean(err_kp[:, 2])} +- {np.std(err_kp[:, 2])}\")\n",
    "    print(f\"DKP Slant Distance error mean: {np.mean(abs(sd_err_kp[:]))} +- {np.std(abs(sd_err_kp[:]))}\\n\")\n",
    "\n",
    "    positions1 = [1, 2]   # First set of boxes\n",
    "    positions2 = [5, 6]  # Second set of boxes, slightly shifted\n",
    "    positions3 = [9, 10]  # Second set of boxes, slightly shifted\n",
    "\n",
    "    widths = 0.8\n",
    "\n",
    "    ax1.boxplot(err_kp[mask, 0], positions=[positions1[0]], widths=widths, patch_artist=True, medianprops=dict(color='lightgreen'))\n",
    "    ax1.boxplot(err_kp[mask, 1], positions=[positions2[0]], widths=widths, patch_artist=True, medianprops=dict(color='lightgreen'))\n",
    "    ax1.boxplot(err_kp[mask, 2], positions=[positions3[0]], widths=widths, patch_artist=True, medianprops=dict(color='lightgreen'))\n",
    "    ax2.plot(sd_hat_kp[mask], label='detected-keypoint-based estimation')\n",
    "    \n",
    "    ax1.boxplot(err_gt[mask, 0], positions=[positions1[1]], widths=widths, patch_artist=True,boxprops=dict(facecolor='orange'), medianprops=dict(color='lightgreen'))\n",
    "    ax1.boxplot(err_gt[mask, 1], positions=[positions2[1]], widths=widths, patch_artist=True,boxprops=dict(facecolor='orange'), medianprops=dict(color='lightgreen'))\n",
    "    ax1.boxplot(err_gt[mask, 2], positions=[positions3[1]], widths=widths, patch_artist=True,boxprops=dict(facecolor='orange'), medianprops=dict(color='lightgreen'))\n",
    "    ax2.plot(sd[mask], label='ground truth')\n",
    "\n",
    "    ax1.set_xticks([1.5, 5.5, 9.5])\n",
    "    ax1.set_xticklabels(['Yaw', 'Pitch', 'Roll'], fontsize=16)\n",
    "\n",
    "    legend_elements = [Patch(edgecolor='black', label='detected-keypoint-based estimation'),\n",
    "                   Patch(facecolor='orange', edgecolor='black', label='ground-truth-based estimation')]\n",
    "    ax1.legend(handles=legend_elements, fontsize=13, loc='best')\n",
    "\n",
    "    ax1.set_ylabel(\"Error (°)\", fontsize=16)\n",
    "    ax1.tick_params(axis='y', labelsize=14)\n",
    "    ax2.tick_params(axis='both', labelsize=14)\n",
    "\n",
    "    if scale == \"Asinh\":\n",
    "        asinh = AsinhScale(a=0.1)\n",
    "        ax1.set_yscale('function', functions=(asinh.transform, asinh.inverse))\n",
    "        ax1.yaxis.set_major_formatter(FuncFormatter(asinh.format))\n",
    "        custom_ticks = [-64, -8, -1, 0, 1, 8, 64]\n",
    "        ax1.set_yticks(custom_ticks)\n",
    "\n",
    "    ax2.set_xlabel('Frame', fontsize=16)\n",
    "    ax2.set_ylabel('Slant Distance to Runway (NM)', fontsize=16)\n",
    "\n",
    "    # Set titles for each subplot\n",
    "    ax1.set_title('Orientation Estimation Error', fontsize=24, weight='bold')\n",
    "    ax2.set_title('Slant Distance Estimation', fontsize=24, weight='bold')\n",
    "    ax2.legend(loc='best',fontsize=13)\n",
    "\n",
    "    # Adjust layout for better appearance\n",
    "    fig.subplots_adjust(top=0.8, wspace=0.3)\n",
    "    ax1.yaxis.grid(True)\n",
    "\n",
    "    plt.savefig('box_plot_'+airport+runway+test_scenery+'_no_title.pdf', bbox_inches='tight', pad_inches=0)\n",
    "\n",
    "    # Show the plot\n",
    "    plt.show()"
   ]
  },
  {
   "cell_type": "code",
   "execution_count": null,
   "id": "63539505-8bb6-4dbb-844c-35ea45e5c145",
   "metadata": {},
   "outputs": [],
   "source": [
    "box_plot(slant_distance_gt, estimated_distance_gt, estimated_distance_kp, pose_gt, estimated_pose_gt, estimated_pose_kp, airport_name, runway, scenario)"
   ]
  }
 ],
 "metadata": {
  "kernelspec": {
   "display_name": "Python 3 (ipykernel)",
   "language": "python",
   "name": "python3"
  },
  "language_info": {
   "codemirror_mode": {
    "name": "ipython",
    "version": 3
   },
   "file_extension": ".py",
   "mimetype": "text/x-python",
   "name": "python",
   "nbconvert_exporter": "python",
   "pygments_lexer": "ipython3",
   "version": "3.12.7"
  }
 },
 "nbformat": 4,
 "nbformat_minor": 5
}
